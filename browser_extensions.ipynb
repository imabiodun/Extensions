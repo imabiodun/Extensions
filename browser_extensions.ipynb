{
 "cells": [
  {
   "cell_type": "code",
   "execution_count": null,
   "id": "a81b7447-7526-4a0e-bb1b-10079f2cd564",
   "metadata": {},
   "outputs": [],
   "source": [
    "# import libraries\n",
    "import requests\n",
    "from bs4 import BeautifulSoup\n",
    "import pandas as pd\n",
    "import re"
   ]
  },
  {
   "cell_type": "code",
   "execution_count": null,
   "id": "bf1fba28-bb6d-41ba-bcca-1cd1412499fb",
   "metadata": {},
   "outputs": [],
   "source": [
    "# functions to be used\n",
    "def replace_chars (value):\n",
    "    \"\"\"replaces non alpha character with '-''\"\"\"\n",
    "    pattern = r'[^a-zA-Z\\.\\s]+'\n",
    "    return re.sub(pattern,'',value).lower()\n",
    "\n",
    "def last_page_number(li):\n",
    "    \"\"\"returns maximum page of the extensiin category\"\"\"\n",
    "    req = requests.get(moz_link+li.select('a')[0].get('href')).text\n",
    "    return int(BeautifulSoup(req,'xml').select('.Paginate-page-number')[0].getText().split()[-1]) + 1\n"
   ]
  },
  {
   "cell_type": "code",
   "execution_count": null,
   "id": "70b48010-1468-4226-a336-10a85d46ed63",
   "metadata": {},
   "outputs": [],
   "source": [
    "# Get Extensions\n",
    "moz_link = 'https://addons.mozilla.org'\n",
    "extension_url = moz_link + '/en-US/firefox/extensions/'\n",
    "extension_url"
   ]
  },
  {
   "cell_type": "code",
   "execution_count": null,
   "id": "bd0322c0-24f7-459a-b02c-92bbd5e6453f",
   "metadata": {},
   "outputs": [],
   "source": [
    "req = requests.get(extension_url) # get extension page html file"
   ]
  },
  {
   "cell_type": "code",
   "execution_count": null,
   "id": "723e4564-eee6-4837-8eb1-7fdcae0e33a3",
   "metadata": {},
   "outputs": [],
   "source": [
    "master_soup = BeautifulSoup(req.content,'html.parser') # Parse request file as soup"
   ]
  },
  {
   "cell_type": "code",
   "execution_count": null,
   "id": "eaa873d8-ec48-4c39-bf21-a0273cf162cb",
   "metadata": {},
   "outputs": [],
   "source": [
    "extension_dict = {} # dictionary for extension links by category\n",
    "\n",
    "for li in master_soup.select('.Categories-list')[0].select('li'): # selects all categories in extension\n",
    "    for x in range(1,last_page_number(li)): # gets the number of pages for each category\n",
    "        link = moz_link+li.select('a')[0].get('href')+f'?page={x}' # links of each page\n",
    "        category = li.getText() # category names\n",
    "        try:\n",
    "            if link in extension_dict[category]: # skip if link is already in the category\n",
    "                continue\n",
    "            else:\n",
    "                extension_dict[category].append(link) \n",
    "        except KeyError:\n",
    "            extension_dict[category] = []\n",
    "            extension_dict[category].append(link)"
   ]
  },
  {
   "cell_type": "code",
   "execution_count": null,
   "id": "3becb596-1e76-4d43-b87b-c47a22eeb835",
   "metadata": {},
   "outputs": [],
   "source": [
    "extension_requests = {} # dictionary for soup\n",
    "for index,(key,links) in enumerate(extension_dict.items()):\n",
    "    if index < 2: # reduced the value due to memory \n",
    "        for link in extension_dict[key]:\n",
    "            try:\n",
    "                res = requests.get(link).content\n",
    "                soup = BeautifulSoup(res,'html.parser')\n",
    "                extension_requests[key].append(soup)\n",
    "                \n",
    "            except KeyError: # when key error occurs,  runs only once for each category\n",
    "                extension_requests[key] = []\n",
    "                res = requests.get(link).content\n",
    "                soup = BeautifulSoup(res,'html.parser')\n",
    "                extension_requests[key].append(soup)\n"
   ]
  },
  {
   "cell_type": "code",
   "execution_count": null,
   "id": "57a94598-4dbd-4bf3-a03a-e4ea4a4ed4a9",
   "metadata": {},
   "outputs": [],
   "source": [
    "category_list = []\n",
    "names = []\n",
    "user_count = []\n",
    "badge = []\n",
    "rating = []\n",
    "description = []\n",
    "author = []\n",
    "for category in extension_requests:\n",
    "    for index,soup in enumerate(extension_requests[category]):\n",
    "        for x in soup.select('.SearchResult-wrapper'):\n",
    "            category_list.append(category) # gets extension's category name\n",
    "            user_count.append(x.select('span.SearchResult-users-text')[0].getText()) # gets user count\n",
    "            names.append(x.select('a.SearchResult-link')[0].get_text()) # gets extension name\n",
    "            description.append(x.select('.SearchResult-summary')[0].get_text()) # gets extension summary\n",
    "            author.append(x.select('h3.SearchResult-author')[0].get_text()) # gets extension author\n",
    "            rating.append(x.select('.SearchResult-rating')[0].get_text()) # gets extension average rating\n",
    "            if x.select('.PromotedBadge-label--recommended'): # gets extension bagde \n",
    "                badge.append(x.select('.PromotedBadge-label--recommended')[0].get_text())\n",
    "            else:\n",
    "                badge.append(None) # return None if the badge is not available"
   ]
  },
  {
   "cell_type": "code",
   "execution_count": null,
   "id": "ae499eb6-4fd0-43b0-817e-8a72bbb56eb6",
   "metadata": {},
   "outputs": [],
   "source": [
    "df1 = pd.DataFrame({\n",
    "    'name':names,'category':category_list,'ratings':rating,\n",
    "    'description':description,'author':author,'badge':badge,\n",
    "    'users':user_count,\n",
    "})"
   ]
  },
  {
   "cell_type": "code",
   "execution_count": null,
   "id": "6a91aa9a-d390-483c-9451-78ee9c09e4cd",
   "metadata": {},
   "outputs": [],
   "source": [
    "df1['category'].value_counts()"
   ]
  },
  {
   "cell_type": "code",
   "execution_count": null,
   "id": "d39d1657-d3ca-4ded-86a3-d9be637c534e",
   "metadata": {},
   "outputs": [],
   "source": [
    "# new_df = {}\n",
    "# for category in extension_dict:\n",
    "#     for page in extension_dict[category]:\n",
    "#         del_list = page.select('.SearchResult-wrapper')\n",
    "#         for a in del_list:\n",
    "#             def features_columns():\n",
    "#                 new_df['category'].append(category)\n",
    "#                 new_df['name'].append(a.select('a.SearchResult-link')[0].get_text())\n",
    "#                 new_df['users'].append(a.select('span.SearchResult-users-text')[0].get_text())\n",
    "#                 new_df['author'].append(a.select('h3.SearchResult-author')[0].get_text())\n",
    "#                 new_df['summary'].append(a.select('.SearchResult-summary')[0].get_text())\n",
    "#                 new_df['rating'].append(a.select('.SearchResult-rating')[0].get_text())\n",
    "#                 if a.select('.PromotedBadge-label--recommended'):\n",
    "#                     new_df['recommended'].append(a.select('.PromotedBadge-label--recommended')[0].get_text())\n",
    "#                 else: new_df['recommended'].append(None)\n",
    "#             try:    \n",
    "#                 features_columns()\n",
    "#             except KeyError:\n",
    "#                 new_df['name'] = []\n",
    "#                 new_df['users'] = []\n",
    "#                 new_df['author'] = []\n",
    "#                 new_df['summary'] = []\n",
    "#                 new_df['rating'] = []\n",
    "#                 new_df['recommended'] = []                \n",
    "#                 new_df['category'] = []\n",
    "#                 features_columns()\n",
    "    \n",
    "# print('Done!')"
   ]
  },
  {
   "cell_type": "code",
   "execution_count": null,
   "id": "145ead7d-6d22-4fde-bc71-676afdef4ef3",
   "metadata": {},
   "outputs": [],
   "source": [
    "df1[df1.duplicated()]"
   ]
  },
  {
   "cell_type": "code",
   "execution_count": null,
   "id": "9baf43a0-0321-4508-b627-7b295f06a035",
   "metadata": {},
   "outputs": [],
   "source": [
    "df1[df1['category'] == 'Accessibility'][df1[df1['category'] == 'Accessibility'].duplicated()]"
   ]
  },
  {
   "cell_type": "code",
   "execution_count": null,
   "id": "128eab89-c203-45fd-a23e-36287b474558",
   "metadata": {},
   "outputs": [],
   "source": [
    "df1['users'] = df1['users'].apply(lambda x:int(x.split()[0].replace(',','')))"
   ]
  },
  {
   "cell_type": "code",
   "execution_count": null,
   "id": "77b5f124-a241-4d35-9cea-a5544229a82a",
   "metadata": {},
   "outputs": [],
   "source": [
    "df1['users'].max()"
   ]
  },
  {
   "cell_type": "code",
   "execution_count": null,
   "id": "718d714a-0904-4dc4-bfa9-ba0ce0911545",
   "metadata": {},
   "outputs": [],
   "source": [
    "gaps"
   ]
  },
  {
   "cell_type": "code",
   "execution_count": null,
   "id": "b014f497-2401-4ae8-b774-e9afede072d1",
   "metadata": {},
   "outputs": [],
   "source": [
    "gaps = '→ Price History charts \\n→ Price Drop & '\n",
    "gaps = '工具栏添加一个Bilibili图标，用于提示并快速查看更新视频、直播等信息'\n",
    "gaps.encode('ascii',errors='ignore')\n",
    "# replace_chars(gaps)"
   ]
  },
  {
   "cell_type": "code",
   "execution_count": null,
   "id": "7791cd23-2a6f-4d7d-9fd6-146aaef9cdfc",
   "metadata": {},
   "outputs": [],
   "source": [
    "df1.sort_values('users',ascending=False).iloc[217]"
   ]
  }
 ],
 "metadata": {
  "kernelspec": {
   "display_name": "Python 3 (ipykernel)",
   "language": "python",
   "name": "python3"
  },
  "language_info": {
   "codemirror_mode": {
    "name": "ipython",
    "version": 3
   },
   "file_extension": ".py",
   "mimetype": "text/x-python",
   "name": "python",
   "nbconvert_exporter": "python",
   "pygments_lexer": "ipython3",
   "version": "3.11.7"
  }
 },
 "nbformat": 4,
 "nbformat_minor": 5
}
